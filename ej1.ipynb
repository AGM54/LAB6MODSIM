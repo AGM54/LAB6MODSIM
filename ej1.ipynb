{
 "cells": [
  {
   "cell_type": "code",
   "execution_count": 17,
   "metadata": {},
   "outputs": [],
   "source": [
    "using JuMP\n",
    "using HiGHS\n",
    "using Ipopt\n",
    "using Optimization\n",
    "using Optim\n"
   ]
  },
  {
   "cell_type": "code",
   "execution_count": 18,
   "metadata": {},
   "outputs": [
    {
     "data": {
      "text/plain": [
       "A JuMP Model\n",
       "├ solver: none\n",
       "├ objective_sense: FEASIBILITY_SENSE\n",
       "├ num_variables: 0\n",
       "├ num_constraints: 0\n",
       "└ Names registered in the model: none"
      ]
     },
     "metadata": {},
     "output_type": "display_data"
    }
   ],
   "source": [
    "model = Model()"
   ]
  },
  {
   "cell_type": "code",
   "execution_count": 19,
   "metadata": {},
   "outputs": [
    {
     "data": {
      "text/latex": [
       "$ x4 $"
      ],
      "text/plain": [
       "x4"
      ]
     },
     "metadata": {},
     "output_type": "display_data"
    }
   ],
   "source": [
    "@variable(model, 0 <= x1 <= 800)\n",
    "@variable(model, 0 <= x2 <= 750)\n",
    "@variable(model, 0 <= x3 <= 600)\n",
    "@variable(model, 0 <= x4 <= 500)"
   ]
  },
  {
   "cell_type": "code",
   "execution_count": 20,
   "metadata": {},
   "outputs": [
    {
     "data": {
      "text/latex": [
       "$$ 0.15 x1 + 0.15 x2 + 0.1 x3 + 0.05 x4 \\leq 1000 $$"
      ],
      "text/plain": [
       "0.15 x1 + 0.15 x2 + 0.1 x3 + 0.05 x4 <= 1000"
      ]
     },
     "metadata": {},
     "output_type": "display_data"
    }
   ],
   "source": [
    "@constraint(model, 0.3*x1 + 0.3*x2 + 0.25*x3 + 0.15*x4 <= 1000)\n",
    "@constraint(model, 0.25*x1 + 0.35*x2 + 0.3*x3 + 0.1*x4 <= 1000)\n",
    "@constraint(model, 0.45*x1 + 0.5*x2 + 0.4*x3 + 0.22*x4 <= 1000)\n",
    "@constraint(model, 0.15*x1 + 0.15*x2 + 0.1*x3 + 0.05*x4 <= 1000)"
   ]
  },
  {
   "cell_type": "code",
   "execution_count": 21,
   "metadata": {},
   "outputs": [
    {
     "data": {
      "text/latex": [
       "$ 45 x1 + 60 x2 + 30 x3 + 18 x4 - 37000 $"
      ],
      "text/plain": [
       "45 x1 + 60 x2 + 30 x3 + 18 x4 - 37000"
      ]
     },
     "metadata": {},
     "output_type": "display_data"
    }
   ],
   "source": [
    "@objective(model, Max, 45*x1 + 60*x2 + 30*x3 + 18*x4 - 37000)"
   ]
  },
  {
   "cell_type": "code",
   "execution_count": 22,
   "metadata": {},
   "outputs": [],
   "source": [
    "set_optimizer(model, HiGHS.Optimizer)"
   ]
  },
  {
   "cell_type": "code",
   "execution_count": 23,
   "metadata": {},
   "outputs": [
    {
     "data": {
      "text/plain": [
       "A JuMP Model\n",
       "├ solver: HiGHS\n",
       "├ objective_sense: MAX_SENSE\n",
       "│ └ objective_function_type: AffExpr\n",
       "├ num_variables: 4\n",
       "├ num_constraints: 16\n",
       "│ ├ AffExpr in MOI.LessThan{Float64}: 4\n",
       "│ ├ VariableRef in MOI.GreaterThan{Float64}: 4\n",
       "│ ├ VariableRef in MOI.LessThan{Float64}: 4\n",
       "│ └ VariableRef in MOI.Integer: 4\n",
       "└ Names registered in the model\n",
       "  └ :x1, :x2, :x3, :x4"
      ]
     },
     "metadata": {},
     "output_type": "display_data"
    }
   ],
   "source": [
    "model"
   ]
  },
  {
   "cell_type": "code",
   "execution_count": 24,
   "metadata": {},
   "outputs": [
    {
     "name": "stdout",
     "output_type": "stream",
     "text": [
      "Running HiGHS 1.7.2 (git hash: 5ce7a2753): Copyright (c) 2024 HiGHS under MIT licence terms\n",
      "Coefficient ranges:\n",
      "  Matrix [5e-02, 5e-01]\n",
      "  Cost   [2e+01, 6e+01]\n",
      "  Bound  [5e+02, 8e+02]\n",
      "  RHS    [1e+03, 1e+03]\n",
      "Presolving model\n",
      "1 rows, 4 cols, 4 nonzeros  0s\n",
      "1 rows, 4 cols, 4 nonzeros  0s\n",
      "Objective function is integral with scale 0.333333\n",
      "\n",
      "Solving MIP model with:\n",
      "   1 rows\n",
      "   4 cols (0 binary, 4 integer, 0 implied int., 0 continuous)\n",
      "   4 nonzeros\n",
      "\n",
      "        Nodes      |    B&B Tree     |            Objective Bounds              |  Dynamic Constraints |       Work      \n",
      "     Proc. InQueue |  Leaves   Expl. | BestBound       BestSol              Gap |   Cuts   InLp Confl. | LpIters     Time\n",
      "\n",
      "         0       0         0   0.00%   71000           -inf                 inf        0      0      0         0     0.0s\n",
      " S       0       0         0   0.00%   71000           64610              9.89%        0      0      0         0     0.0s\n",
      "\n",
      "Solving report\n",
      "  Status            Optimal\n",
      "  Primal bound      64622\n",
      "  Dual bound        64622\n",
      "  Gap               0% (tolerance: 0.01%)\n",
      "  Solution status   feasible\n",
      "                    64622 (objective)\n",
      "                    0 (bound viol.)\n",
      "                    0 (int. viol.)\n",
      "                    0 (row viol.)\n",
      "  Timing            0.01 (total)\n",
      "                    0.00 (presolve)\n",
      "                    0.00 (postsolve)\n",
      "  Nodes             1\n",
      "  LP iterations     2 (total)\n",
      "                    0 (strong br.)\n",
      "                    0 (separation)\n",
      "                    0 (heuristics)\n"
     ]
    }
   ],
   "source": [
    "optimize!(model)"
   ]
  },
  {
   "cell_type": "code",
   "execution_count": 25,
   "metadata": {},
   "outputs": [
    {
     "name": "stdout",
     "output_type": "stream",
     "text": [
      "Valor óptimo de la función objetivo: 64622.0\n",
      "Valores óptimos de las variables de decisión:\n",
      "x1 = 800.0\n",
      "x2 = 750.0\n",
      "x3 = 388.0\n",
      "x4 = 499.0\n"
     ]
    }
   ],
   "source": [
    "println(\"Valor óptimo de la función objetivo: \", objective_value(model))\n",
    "println(\"Valores óptimos de las variables de decisión:\")\n",
    "println(\"x1 = \", value(x1))\n",
    "println(\"x2 = \", value(x2))\n",
    "println(\"x3 = \", value(x3))\n",
    "println(\"x4 = \", value(x4))"
   ]
  }
 ],
 "metadata": {
  "kernelspec": {
   "display_name": "Julia 1.10.5",
   "language": "julia",
   "name": "julia-1.10"
  },
  "language_info": {
   "file_extension": ".jl",
   "mimetype": "application/julia",
   "name": "julia",
   "version": "1.10.5"
  }
 },
 "nbformat": 4,
 "nbformat_minor": 2
}
